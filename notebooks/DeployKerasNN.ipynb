{
 "cells": [
  {
   "cell_type": "markdown",
   "metadata": {},
   "source": [
    "This notebook is copied and pasted from "
   ]
  },
  {
   "cell_type": "code",
   "execution_count": 1,
   "metadata": {},
   "outputs": [
    {
     "name": "stderr",
     "output_type": "stream",
     "text": [
      "Using TensorFlow backend.\n"
     ]
    }
   ],
   "source": [
    "import keras"
   ]
  },
  {
   "cell_type": "code",
   "execution_count": 2,
   "metadata": {},
   "outputs": [
    {
     "name": "stdout",
     "output_type": "stream",
     "text": [
      "Downloading data from https://s3.amazonaws.com/img-datasets/mnist.npz\n",
      "11493376/11490434 [==============================] - 3s 0us/step\n",
      "(60000, 28, 28)\n",
      "(60000,)\n",
      "(10000, 28, 28)\n",
      "(10000,)\n"
     ]
    }
   ],
   "source": [
    "from keras.datasets import mnist\n",
    "\n",
    "(train_images, train_labels), (test_images, test_labels) = mnist.load_data()\n",
    "print(train_images.shape)\n",
    "print(train_labels.shape)\n",
    "print(test_images.shape)\n",
    "print(test_labels.shape)"
   ]
  },
  {
   "cell_type": "code",
   "execution_count": 3,
   "metadata": {},
   "outputs": [
    {
     "data": {
      "text/plain": [
       "<Figure size 1000x200 with 10 Axes>"
      ]
     },
     "metadata": {},
     "output_type": "display_data"
    }
   ],
   "source": [
    "import matplotlib.pyplot as plt\n",
    "\n",
    "n = 10\n",
    "\n",
    "fig, ax = plt.subplots(1, n, figsize=(10, 2))\n",
    "for idx, image in enumerate(train_images[:10]):\n",
    "    ax[idx].imshow(image, cmap=plt.cm.Greys)\n",
    "    ax[idx].set_xticks([])\n",
    "    ax[idx].set_yticks([])\n",
    "    ax[idx].set_title(train_labels[idx], fontsize=18)\n",
    "\n",
    "plt.show()"
   ]
  },
  {
   "cell_type": "code",
   "execution_count": 4,
   "metadata": {},
   "outputs": [],
   "source": [
    "# Flatten images\n",
    "train_images = train_images.reshape((60000, 28 * 28))\n",
    "# Normalise images\n",
    "train_images = train_images.astype('float32') / 255\n",
    "\n",
    "test_images = test_images.reshape((10000, 28 * 28))\n",
    "test_images = test_images.astype('float32') / 255"
   ]
  },
  {
   "cell_type": "code",
   "execution_count": 5,
   "metadata": {},
   "outputs": [],
   "source": [
    "from keras.utils import to_categorical\n",
    "\n",
    "train_labels = to_categorical(train_labels)\n",
    "test_labels = to_categorical(test_labels)"
   ]
  },
  {
   "cell_type": "code",
   "execution_count": 6,
   "metadata": {},
   "outputs": [
    {
     "name": "stdout",
     "output_type": "stream",
     "text": [
      "WARNING:tensorflow:From /home/lge/.local/lib/python3.6/site-packages/tensorflow/python/framework/op_def_library.py:263: colocate_with (from tensorflow.python.framework.ops) is deprecated and will be removed in a future version.\n",
      "Instructions for updating:\n",
      "Colocations handled automatically by placer.\n"
     ]
    }
   ],
   "source": [
    "from keras import models\n",
    "from keras import layers\n",
    "\n",
    "nn = models.Sequential()\n",
    "nn.add(layers.Dense(512, activation='relu', input_shape=(28 * 28,)))\n",
    "nn.add(layers.Dense(10, activation='softmax'))\n",
    "\n",
    "nn.compile(optimizer='rmsprop',\n",
    "                loss='categorical_crossentropy',\n",
    "                metrics=['accuracy'])"
   ]
  },
  {
   "cell_type": "code",
   "execution_count": 7,
   "metadata": {},
   "outputs": [
    {
     "name": "stdout",
     "output_type": "stream",
     "text": [
      "WARNING:tensorflow:From /home/lge/.local/lib/python3.6/site-packages/tensorflow/python/ops/math_ops.py:3066: to_int32 (from tensorflow.python.ops.math_ops) is deprecated and will be removed in a future version.\n",
      "Instructions for updating:\n",
      "Use tf.cast instead.\n",
      "Epoch 1/5\n",
      "60000/60000 [==============================] - 3s 51us/step - loss: 0.2579 - acc: 0.9252\n",
      "Epoch 2/5\n",
      "60000/60000 [==============================] - 3s 46us/step - loss: 0.1048 - acc: 0.9685\n",
      "Epoch 3/5\n",
      "60000/60000 [==============================] - 3s 45us/step - loss: 0.0686 - acc: 0.9795\n",
      "Epoch 4/5\n",
      "60000/60000 [==============================] - 3s 48us/step - loss: 0.0495 - acc: 0.9856\n",
      "Epoch 5/5\n",
      "60000/60000 [==============================] - 3s 46us/step - loss: 0.0373 - acc: 0.9890\n"
     ]
    },
    {
     "data": {
      "text/plain": [
       "<keras.callbacks.History at 0x7fafdcf43da0>"
      ]
     },
     "execution_count": 7,
     "metadata": {},
     "output_type": "execute_result"
    }
   ],
   "source": [
    "nn.fit(train_images, train_labels, epochs=5, batch_size=128)"
   ]
  },
  {
   "cell_type": "code",
   "execution_count": 8,
   "metadata": {},
   "outputs": [
    {
     "name": "stdout",
     "output_type": "stream",
     "text": [
      "10000/10000 [==============================] - 0s 37us/step\n",
      "test_acc: 0.9795\n"
     ]
    }
   ],
   "source": [
    "test_loss, test_accuracy = nn.evaluate(test_images, test_labels)\n",
    "\n",
    "print('test_acc:', test_accuracy)"
   ]
  },
  {
   "cell_type": "code",
   "execution_count": 9,
   "metadata": {},
   "outputs": [],
   "source": [
    "import onnxmltools\n",
    "\n",
    "onnx_model = onnxmltools.convert_keras(nn) \n",
    "\n",
    "onnxmltools.utils.save_model(onnx_model, 'keras_example.onnx')"
   ]
  },
  {
   "cell_type": "code",
   "execution_count": 10,
   "metadata": {},
   "outputs": [
    {
     "name": "stdout",
     "output_type": "stream",
     "text": [
      "dense_1_input_01\n",
      "dense_2_Softmax_0\n",
      "Image 0, Actual number =  [0. 0. 0. 0. 0. 0. 0. 1. 0. 0.]\n",
      "Probability of 0 = 0.0000\n",
      "Probability of 1 = 0.0000\n",
      "Probability of 2 = 0.0000\n",
      "Probability of 3 = 0.0000\n",
      "Probability of 4 = 0.0000\n",
      "Probability of 5 = 0.0000\n",
      "Probability of 6 = 0.0000\n",
      "Probability of 7 = 1.0000\n",
      "Probability of 8 = 0.0000\n",
      "Probability of 9 = 0.0000\n",
      "Image 1, Actual number =  [0. 0. 1. 0. 0. 0. 0. 0. 0. 0.]\n",
      "Probability of 0 = 0.0000\n",
      "Probability of 1 = 0.0000\n",
      "Probability of 2 = 1.0000\n",
      "Probability of 3 = 0.0000\n",
      "Probability of 4 = 0.0000\n",
      "Probability of 5 = 0.0000\n",
      "Probability of 6 = 0.0000\n",
      "Probability of 7 = 0.0000\n",
      "Probability of 8 = 0.0000\n",
      "Probability of 9 = 0.0000\n",
      "Image 2, Actual number =  [0. 1. 0. 0. 0. 0. 0. 0. 0. 0.]\n",
      "Probability of 0 = 0.0000\n",
      "Probability of 1 = 0.9983\n",
      "Probability of 2 = 0.0004\n",
      "Probability of 3 = 0.0000\n",
      "Probability of 4 = 0.0000\n",
      "Probability of 5 = 0.0001\n",
      "Probability of 6 = 0.0000\n",
      "Probability of 7 = 0.0005\n",
      "Probability of 8 = 0.0006\n",
      "Probability of 9 = 0.0000\n"
     ]
    }
   ],
   "source": [
    "import onnxruntime\n",
    "\n",
    "session = onnxruntime.InferenceSession(\"keras_example.onnx\")\n",
    "\n",
    "first_input_name = session.get_inputs()[0].name\n",
    "print(first_input_name)\n",
    "\n",
    "first_output_name = session.get_outputs()[0].name\n",
    "print(first_output_name)\n",
    "\n",
    "results = session.run([first_output_name], {first_input_name: test_images[0:3]})\n",
    "\n",
    "for idx, result in enumerate(results[0]):\n",
    "    print(\"Image %d, Actual number = \" % idx, test_labels[idx])\n",
    "    for i, p in enumerate(result):\n",
    "        print(\"Probability of %d = %.4f\" % (i, p))"
   ]
  },
  {
   "cell_type": "code",
   "execution_count": 11,
   "metadata": {},
   "outputs": [],
   "source": [
    "from azureml.core import Workspace"
   ]
  },
  {
   "cell_type": "code",
   "execution_count": 12,
   "metadata": {},
   "outputs": [
    {
     "name": "stderr",
     "output_type": "stream",
     "text": [
      "INFO:azureml._vendor.azure_cli_core._session:Failed to load or parse file /home/lge/.azureml/auth/azureProfile.json. It will be overridden by default settings.\n",
      "INFO:azureml._vendor.azure_cli_core._session:Failed to load or parse file /home/lge/.azureml/auth/az.json. It will be overridden by default settings.\n",
      "INFO:azureml._vendor.azure_cli_core._session:Failed to load or parse file /home/lge/.azureml/auth/az.sess. It will be overridden by default settings.\n",
      "INFO:azureml._vendor.azure_cli_core._session:Failed to load or parse file /home/lge/.azure/azureProfile.json. It will be overridden by default settings.\n",
      "INFO:azureml._vendor.azure_cli_core._profile:Open browser with url: https://login.microsoftonline.com/common/oauth2/authorize?response_type=code&client_id=04b07795-8ddb-461a-bbee-02f9e1bf7b46&redirect_uri=http://localhost:8400&state=code&resource=https://management.core.windows.net/&prompt=select_account\n",
      "WARNING:azureml._vendor.azure_cli_core._profile:Note, we have launched a browser for you to login. For old experience with device code, use \"az login --use-device-code\"\n"
     ]
    },
    {
     "name": "stdout",
     "output_type": "stream",
     "text": [
      "Performing interactive authentication. Please follow the instructions on the terminal.\n"
     ]
    },
    {
     "name": "stderr",
     "output_type": "stream",
     "text": [
      "INFO:adal-python:f87c277c-a7c0-4eac-bd41-3a17fe40c260 - TokenRequest:Getting token with auth code.\n",
      "INFO:adal-python:f87c277c-a7c0-4eac-bd41-3a17fe40c260 - OAuth2Client:Get Token Server returned this correlation_id: f87c277c-a7c0-4eac-bd41-3a17fe40c260\n",
      "WARNING:azureml._vendor.azure_cli_core._profile:You have logged in. Now let us find all the subscriptions to which you have access...\n",
      "INFO:adal-python:4c3e1837-9b36-48c6-9c87-0216c24cbeb1 - TokenRequest:Getting token from cache with refresh if necessary.\n",
      "INFO:adal-python:4c3e1837-9b36-48c6-9c87-0216c24cbeb1 - CacheDriver:Acquiring new access token from MRRT token.\n",
      "INFO:adal-python:4c3e1837-9b36-48c6-9c87-0216c24cbeb1 - TokenRequest:Getting a new token from a refresh token\n",
      "INFO:adal-python:4c3e1837-9b36-48c6-9c87-0216c24cbeb1 - OAuth2Client:Get Token Server returned this correlation_id: 4c3e1837-9b36-48c6-9c87-0216c24cbeb1\n",
      "INFO:adal-python:4c3e1837-9b36-48c6-9c87-0216c24cbeb1 - CacheDriver:Returning token derived from mrrt refresh.\n",
      "INFO:adal-python:f0642dc1-6f2c-4043-ba17-930842eab545 - TokenRequest:Getting token from cache with refresh if necessary.\n",
      "INFO:adal-python:ddb6d49b-f494-4fe8-8584-e6d1a6753303 - TokenRequest:Getting token from cache with refresh if necessary.\n"
     ]
    },
    {
     "name": "stdout",
     "output_type": "stream",
     "text": [
      "Interactive authentication successfully completed.\n"
     ]
    },
    {
     "name": "stderr",
     "output_type": "stream",
     "text": [
      "INFO:adal-python:8b6a01ca-f869-4395-a33a-2366dbb2dee4 - TokenRequest:Getting token from cache with refresh if necessary.\n",
      "INFO:adal-python:ca37d7ed-9f52-43d3-9441-b4b9bc95f0b4 - TokenRequest:Getting token from cache with refresh if necessary.\n",
      "INFO:adal-python:7c7a434b-f32e-4969-a071-5ac797db541e - TokenRequest:Getting token from cache with refresh if necessary.\n",
      "INFO:adal-python:9020930e-95d5-443c-8203-c500d268d1bb - TokenRequest:Getting token from cache with refresh if necessary.\n",
      "INFO:adal-python:80110fef-db4e-409d-a7e9-c38bde0ee06c - TokenRequest:Getting token from cache with refresh if necessary.\n",
      "INFO:adal-python:1f5d5054-76c3-4f04-ab16-84b5dc98eba1 - TokenRequest:Getting token from cache with refresh if necessary.\n",
      "INFO:adal-python:11e06d67-9ca7-47e6-9ac8-afa381b58d99 - TokenRequest:Getting token from cache with refresh if necessary.\n"
     ]
    },
    {
     "name": "stdout",
     "output_type": "stream",
     "text": [
      "Deploying ContainerRegistry with name bobaacrwxdzhpuo.\n",
      "Deployed ContainerRegistry with name bobaacrwxdzhpuo.\n",
      "Deploying AppInsights with name bobainsightsurrvuykr.\n",
      "Deployed AppInsights with name bobainsightsurrvuykr.\n",
      "Deploying KeyVault with name bobakeyvaultfqytoini.\n",
      "Deploying StorageAccount with name bobastoragewispfwfy.\n",
      "Deployed KeyVault with name bobakeyvaultfqytoini.\n",
      "Deployed StorageAccount with name bobastoragewispfwfy.\n",
      "Deploying Workspace with name boba.\n",
      "Deployed Workspace with name boba.\n"
     ]
    }
   ],
   "source": [
    "ws = Workspace.create(name = 'boba',\n",
    "                      subscription_id = 'fa736200-1de1-47e6-9872-78e6815e3fac', \n",
    "                      resource_group = 'c2chack',\n",
    "                      create_resource_group = True,\n",
    "                      location = 'eastus' \n",
    "                     )"
   ]
  },
  {
   "cell_type": "code",
   "execution_count": 13,
   "metadata": {},
   "outputs": [
    {
     "name": "stderr",
     "output_type": "stream",
     "text": [
      "INFO:adal-python:7604a063-e2ec-46c5-ace4-07859a814497 - TokenRequest:Getting token from cache with refresh if necessary.\n",
      "INFO:azureml._restclient.clientbase:Created a worker pool for first use\n",
      "INFO:adal-python:aa21a1a1-08bc-49d3-aa50-7321d9cba153 - TokenRequest:Getting token from cache with refresh if necessary.\n",
      "INFO:adal-python:5a9b6c23-d7ca-40e7-b2fa-3e1ddd77d773 - TokenRequest:Getting token from cache with refresh if necessary.\n",
      "INFO:adal-python:dda58b40-ffb0-40c9-81b5-0c2a494ac1a5 - TokenRequest:Getting token from cache with refresh if necessary.\n"
     ]
    },
    {
     "name": "stdout",
     "output_type": "stream",
     "text": [
      "Registering model MyONNXmodel\n"
     ]
    }
   ],
   "source": [
    "from azureml.core.model import Model\n",
    "\n",
    "model = Model.register(model_path = \"keras_example.onnx\",\n",
    "                       model_name = \"MyONNXmodel\",\n",
    "                       description = \"Test Keras Model\",\n",
    "                       workspace = ws)"
   ]
  },
  {
   "cell_type": "code",
   "execution_count": 14,
   "metadata": {},
   "outputs": [
    {
     "name": "stdout",
     "output_type": "stream",
     "text": [
      "Writing score.py\n"
     ]
    }
   ],
   "source": [
    "%%writefile score.py\n",
    "\n",
    "import json\n",
    "import sys\n",
    "\n",
    "from azureml.core.model import Model\n",
    "import onnxruntime\n",
    "import numpy as np\n",
    "\n",
    "def init():\n",
    "    global model_path\n",
    "    model_path = Model.get_model_path(model_name = 'MyONNXmodel')\n",
    "\n",
    "def run(raw_data):\n",
    "    try:\n",
    "        data = json.loads(raw_data)['data']\n",
    "        data = np.array(data, dtype=np.float32)\n",
    "\n",
    "        session = onnxruntime.InferenceSession(model_path)\n",
    "        first_input_name = session.get_inputs()[0].name\n",
    "        first_output_name = session.get_outputs()[0].name\n",
    "        result = session.run([first_output_name], {first_input_name: data})\n",
    "        # NumPy arrays are not JSON serialisable\n",
    "        result = result[0].tolist()\n",
    "\n",
    "        return {\"result\": result}\n",
    "    except Exception as e:\n",
    "        result = str(e)\n",
    "        return {\"error\": result}"
   ]
  },
  {
   "cell_type": "code",
   "execution_count": 15,
   "metadata": {},
   "outputs": [],
   "source": [
    "from azureml.core.conda_dependencies import CondaDependencies \n",
    "\n",
    "myenv = CondaDependencies()\n",
    "myenv.add_pip_package(\"numpy\")\n",
    "myenv.add_pip_package(\"azureml-core\")\n",
    "myenv.add_pip_package(\"onnxruntime\")\n",
    "\n",
    "with open(\"myenv.yml\",\"w\") as f:\n",
    "    f.write(myenv.serialize_to_string())"
   ]
  },
  {
   "cell_type": "code",
   "execution_count": 16,
   "metadata": {},
   "outputs": [],
   "source": [
    "from azureml.core.image import ContainerImage\n",
    "\n",
    "image_config = ContainerImage.image_configuration(execution_script = \"score.py\",\n",
    "                                                  runtime = \"python\",\n",
    "                                                  conda_file = \"myenv.yml\",\n",
    "                                                  description = \"test\"\n",
    "                                                 )"
   ]
  },
  {
   "cell_type": "code",
   "execution_count": 17,
   "metadata": {},
   "outputs": [
    {
     "name": "stderr",
     "output_type": "stream",
     "text": [
      "INFO:adal-python:9681c024-65d6-43b5-90ab-a3831aad3226 - TokenRequest:Getting token from cache with refresh if necessary.\n",
      "INFO:adal-python:f0eb099a-e84e-4718-ae6c-0da6399bc929 - TokenRequest:Getting token from cache with refresh if necessary.\n",
      "INFO:adal-python:542e1f62-e5a9-4dfe-8045-bb36bbe4b2b1 - TokenRequest:Getting token from cache with refresh if necessary.\n",
      "INFO:adal-python:5dd6efff-7a31-4df4-8fcf-b1cb2a43938d - TokenRequest:Getting token from cache with refresh if necessary.\n",
      "INFO:adal-python:52299723-c0d5-4f88-b153-482503f3c230 - TokenRequest:Getting token from cache with refresh if necessary.\n"
     ]
    },
    {
     "name": "stdout",
     "output_type": "stream",
     "text": [
      "Creating image\n"
     ]
    },
    {
     "name": "stderr",
     "output_type": "stream",
     "text": [
      "INFO:adal-python:8d96d00e-79e0-4416-ae17-ba7164b3d303 - TokenRequest:Getting token from cache with refresh if necessary.\n",
      "INFO:adal-python:7bb34995-b26a-4b8a-bd89-36b338a2ae0a - TokenRequest:Getting token from cache with refresh if necessary.\n",
      "INFO:adal-python:8ef0ea6f-ee8f-48bb-8a12-521a2c4a3064 - TokenRequest:Getting token from cache with refresh if necessary.\n"
     ]
    },
    {
     "name": "stdout",
     "output_type": "stream",
     "text": [
      "Running"
     ]
    },
    {
     "name": "stderr",
     "output_type": "stream",
     "text": [
      "INFO:adal-python:ff12c2aa-3aef-4e73-a5e0-ea2e405d1538 - TokenRequest:Getting token from cache with refresh if necessary.\n"
     ]
    },
    {
     "name": "stdout",
     "output_type": "stream",
     "text": [
      "."
     ]
    },
    {
     "name": "stderr",
     "output_type": "stream",
     "text": [
      "INFO:adal-python:67234713-55ca-412c-bfdf-87838d54e9c0 - TokenRequest:Getting token from cache with refresh if necessary.\n"
     ]
    },
    {
     "name": "stdout",
     "output_type": "stream",
     "text": [
      "."
     ]
    },
    {
     "name": "stderr",
     "output_type": "stream",
     "text": [
      "INFO:adal-python:2cdedd2d-540f-4699-acb9-a61efb6cf0b8 - TokenRequest:Getting token from cache with refresh if necessary.\n"
     ]
    },
    {
     "name": "stdout",
     "output_type": "stream",
     "text": [
      "."
     ]
    },
    {
     "name": "stderr",
     "output_type": "stream",
     "text": [
      "INFO:adal-python:5ddf1389-7ad2-41d7-940e-9e76a22defc7 - TokenRequest:Getting token from cache with refresh if necessary.\n"
     ]
    },
    {
     "name": "stdout",
     "output_type": "stream",
     "text": [
      "."
     ]
    },
    {
     "name": "stderr",
     "output_type": "stream",
     "text": [
      "INFO:adal-python:6b57da69-e26c-40f9-b7a2-cb3a34590118 - TokenRequest:Getting token from cache with refresh if necessary.\n"
     ]
    },
    {
     "name": "stdout",
     "output_type": "stream",
     "text": [
      "."
     ]
    },
    {
     "name": "stderr",
     "output_type": "stream",
     "text": [
      "INFO:adal-python:1eac27fc-4a91-4817-8caf-9d34779c5e30 - TokenRequest:Getting token from cache with refresh if necessary.\n"
     ]
    },
    {
     "name": "stdout",
     "output_type": "stream",
     "text": [
      "."
     ]
    },
    {
     "name": "stderr",
     "output_type": "stream",
     "text": [
      "INFO:adal-python:db70404b-5c19-4a5d-a74e-bbc2ecccf4a9 - TokenRequest:Getting token from cache with refresh if necessary.\n"
     ]
    },
    {
     "name": "stdout",
     "output_type": "stream",
     "text": [
      "."
     ]
    },
    {
     "name": "stderr",
     "output_type": "stream",
     "text": [
      "INFO:adal-python:ab8f52d7-0aca-4595-9923-693cfba0edfc - TokenRequest:Getting token from cache with refresh if necessary.\n"
     ]
    },
    {
     "name": "stdout",
     "output_type": "stream",
     "text": [
      "."
     ]
    },
    {
     "name": "stderr",
     "output_type": "stream",
     "text": [
      "INFO:adal-python:6ae5fa7d-c887-4574-9e62-8f0d681ff8f1 - TokenRequest:Getting token from cache with refresh if necessary.\n"
     ]
    },
    {
     "name": "stdout",
     "output_type": "stream",
     "text": [
      "."
     ]
    },
    {
     "name": "stderr",
     "output_type": "stream",
     "text": [
      "INFO:adal-python:82f46080-4010-473e-a096-b15459ae448c - TokenRequest:Getting token from cache with refresh if necessary.\n"
     ]
    },
    {
     "name": "stdout",
     "output_type": "stream",
     "text": [
      "."
     ]
    },
    {
     "name": "stderr",
     "output_type": "stream",
     "text": [
      "INFO:adal-python:214b45b7-82c1-44d8-a8d0-cbfe0461fda7 - TokenRequest:Getting token from cache with refresh if necessary.\n"
     ]
    },
    {
     "name": "stdout",
     "output_type": "stream",
     "text": [
      "."
     ]
    },
    {
     "name": "stderr",
     "output_type": "stream",
     "text": [
      "INFO:adal-python:4c4ddbe9-15f2-4928-9394-bffb3a0991e0 - TokenRequest:Getting token from cache with refresh if necessary.\n"
     ]
    },
    {
     "name": "stdout",
     "output_type": "stream",
     "text": [
      "."
     ]
    },
    {
     "name": "stderr",
     "output_type": "stream",
     "text": [
      "INFO:adal-python:91ef761e-f8cb-4aa6-b094-70dc70d9aaa8 - TokenRequest:Getting token from cache with refresh if necessary.\n"
     ]
    },
    {
     "name": "stdout",
     "output_type": "stream",
     "text": [
      "."
     ]
    },
    {
     "name": "stderr",
     "output_type": "stream",
     "text": [
      "INFO:adal-python:a44de9d4-fdb8-44de-b078-be452c468301 - TokenRequest:Getting token from cache with refresh if necessary.\n"
     ]
    },
    {
     "name": "stdout",
     "output_type": "stream",
     "text": [
      "."
     ]
    },
    {
     "name": "stderr",
     "output_type": "stream",
     "text": [
      "INFO:adal-python:9ebf6153-4c14-4840-9ffe-48d43238e30b - TokenRequest:Getting token from cache with refresh if necessary.\n"
     ]
    },
    {
     "name": "stdout",
     "output_type": "stream",
     "text": [
      "."
     ]
    },
    {
     "name": "stderr",
     "output_type": "stream",
     "text": [
      "INFO:adal-python:21fc61d2-606e-4ada-a24f-5a52a3b6eceb - TokenRequest:Getting token from cache with refresh if necessary.\n"
     ]
    },
    {
     "name": "stdout",
     "output_type": "stream",
     "text": [
      "."
     ]
    },
    {
     "name": "stderr",
     "output_type": "stream",
     "text": [
      "INFO:adal-python:5f5669db-37ce-40a9-b380-df49c3217dd9 - TokenRequest:Getting token from cache with refresh if necessary.\n"
     ]
    },
    {
     "name": "stdout",
     "output_type": "stream",
     "text": [
      "."
     ]
    },
    {
     "name": "stderr",
     "output_type": "stream",
     "text": [
      "INFO:adal-python:504419a1-1604-42b1-816a-47b100f82410 - TokenRequest:Getting token from cache with refresh if necessary.\n"
     ]
    },
    {
     "name": "stdout",
     "output_type": "stream",
     "text": [
      "."
     ]
    },
    {
     "name": "stderr",
     "output_type": "stream",
     "text": [
      "INFO:adal-python:77554166-bf21-48df-a102-6aa14b6001f7 - TokenRequest:Getting token from cache with refresh if necessary.\n"
     ]
    },
    {
     "name": "stdout",
     "output_type": "stream",
     "text": [
      "."
     ]
    },
    {
     "name": "stderr",
     "output_type": "stream",
     "text": [
      "INFO:adal-python:494f2068-c204-4409-abb0-a4e33ab0ebed - TokenRequest:Getting token from cache with refresh if necessary.\n"
     ]
    },
    {
     "name": "stdout",
     "output_type": "stream",
     "text": [
      "."
     ]
    },
    {
     "name": "stderr",
     "output_type": "stream",
     "text": [
      "INFO:adal-python:2a451d12-ead5-4829-a22b-5117700439cd - TokenRequest:Getting token from cache with refresh if necessary.\n"
     ]
    },
    {
     "name": "stdout",
     "output_type": "stream",
     "text": [
      ".\n",
      "Succeeded"
     ]
    },
    {
     "name": "stderr",
     "output_type": "stream",
     "text": [
      "INFO:adal-python:76b69c2a-8775-4562-9359-f1941acb0e92 - TokenRequest:Getting token from cache with refresh if necessary.\n"
     ]
    },
    {
     "name": "stdout",
     "output_type": "stream",
     "text": [
      "Image creation operation finished for image myonnxmodelimage:1, operation \"Succeeded\"\n"
     ]
    },
    {
     "name": "stderr",
     "output_type": "stream",
     "text": [
      "INFO:adal-python:e1152997-cf03-494c-b0b7-cc3fc175e147 - TokenRequest:Getting token from cache with refresh if necessary.\n"
     ]
    }
   ],
   "source": [
    "image = ContainerImage.create(name = \"myonnxmodelimage\",\n",
    "                              models = [model],\n",
    "                              image_config = image_config,\n",
    "                              workspace = ws)\n",
    "\n",
    "image.wait_for_creation(show_output = True)"
   ]
  },
  {
   "cell_type": "code",
   "execution_count": 18,
   "metadata": {},
   "outputs": [
    {
     "name": "stderr",
     "output_type": "stream",
     "text": [
      "INFO:adal-python:5ac2dc56-7ded-467b-944c-e024f9da5c22 - TokenRequest:Getting token from cache with refresh if necessary.\n",
      "INFO:adal-python:23edda13-afb6-409b-913d-423156de4dfe - TokenRequest:Getting token from cache with refresh if necessary.\n"
     ]
    },
    {
     "name": "stdout",
     "output_type": "stream",
     "text": [
      "Creating service\n"
     ]
    },
    {
     "name": "stderr",
     "output_type": "stream",
     "text": [
      "INFO:adal-python:ea9b3286-adab-4252-91bb-d6d7b55df1cf - TokenRequest:Getting token from cache with refresh if necessary.\n",
      "INFO:adal-python:65ca7e47-50ef-4048-9347-f0fb33100c54 - TokenRequest:Getting token from cache with refresh if necessary.\n"
     ]
    },
    {
     "name": "stdout",
     "output_type": "stream",
     "text": [
      "Running"
     ]
    },
    {
     "name": "stderr",
     "output_type": "stream",
     "text": [
      "INFO:adal-python:65040501-5d2c-415e-88cb-9dba89acf051 - TokenRequest:Getting token from cache with refresh if necessary.\n"
     ]
    },
    {
     "name": "stdout",
     "output_type": "stream",
     "text": [
      "."
     ]
    },
    {
     "name": "stderr",
     "output_type": "stream",
     "text": [
      "INFO:adal-python:51944925-5a84-4a83-9d6b-b34629fc9048 - TokenRequest:Getting token from cache with refresh if necessary.\n"
     ]
    },
    {
     "name": "stdout",
     "output_type": "stream",
     "text": [
      "."
     ]
    },
    {
     "name": "stderr",
     "output_type": "stream",
     "text": [
      "INFO:adal-python:7cad5274-d6a9-4bc2-8c61-afc6ad300ad7 - TokenRequest:Getting token from cache with refresh if necessary.\n"
     ]
    },
    {
     "name": "stdout",
     "output_type": "stream",
     "text": [
      "."
     ]
    },
    {
     "name": "stderr",
     "output_type": "stream",
     "text": [
      "INFO:adal-python:a7711526-0dd1-4b34-954c-afb74a395012 - TokenRequest:Getting token from cache with refresh if necessary.\n"
     ]
    },
    {
     "name": "stdout",
     "output_type": "stream",
     "text": [
      "."
     ]
    },
    {
     "name": "stderr",
     "output_type": "stream",
     "text": [
      "INFO:adal-python:fc3b9028-4414-43a6-ab55-87f593869867 - TokenRequest:Getting token from cache with refresh if necessary.\n"
     ]
    },
    {
     "name": "stdout",
     "output_type": "stream",
     "text": [
      "."
     ]
    },
    {
     "name": "stderr",
     "output_type": "stream",
     "text": [
      "INFO:adal-python:ce5a2c61-58eb-4ec2-b31c-26c724d0220e - TokenRequest:Getting token from cache with refresh if necessary.\n"
     ]
    },
    {
     "name": "stdout",
     "output_type": "stream",
     "text": [
      "."
     ]
    },
    {
     "name": "stderr",
     "output_type": "stream",
     "text": [
      "INFO:adal-python:9effa737-c7bb-4cb4-97c4-0345cec65663 - TokenRequest:Getting token from cache with refresh if necessary.\n"
     ]
    },
    {
     "name": "stdout",
     "output_type": "stream",
     "text": [
      "."
     ]
    },
    {
     "name": "stderr",
     "output_type": "stream",
     "text": [
      "INFO:adal-python:97ef5989-ca01-4c3a-8135-cd4ef9789a6b - TokenRequest:Getting token from cache with refresh if necessary.\n"
     ]
    },
    {
     "name": "stdout",
     "output_type": "stream",
     "text": [
      "."
     ]
    },
    {
     "name": "stderr",
     "output_type": "stream",
     "text": [
      "INFO:adal-python:a17b53d9-82bc-4068-acbb-e8d04f2eec26 - TokenRequest:Getting token from cache with refresh if necessary.\n"
     ]
    },
    {
     "name": "stdout",
     "output_type": "stream",
     "text": [
      "."
     ]
    },
    {
     "name": "stderr",
     "output_type": "stream",
     "text": [
      "INFO:adal-python:b7c48deb-c3e5-4e33-b832-2e22dc9118dd - TokenRequest:Getting token from cache with refresh if necessary.\n"
     ]
    },
    {
     "name": "stdout",
     "output_type": "stream",
     "text": [
      "."
     ]
    },
    {
     "name": "stderr",
     "output_type": "stream",
     "text": [
      "INFO:adal-python:dcf5b58b-6bba-4608-9d39-8276dd9b5448 - TokenRequest:Getting token from cache with refresh if necessary.\n"
     ]
    },
    {
     "name": "stdout",
     "output_type": "stream",
     "text": [
      "."
     ]
    },
    {
     "name": "stderr",
     "output_type": "stream",
     "text": [
      "INFO:adal-python:ceeb8547-f8c4-4f29-a31c-2217b7ccd31c - TokenRequest:Getting token from cache with refresh if necessary.\n"
     ]
    },
    {
     "name": "stdout",
     "output_type": "stream",
     "text": [
      "."
     ]
    },
    {
     "name": "stderr",
     "output_type": "stream",
     "text": [
      "INFO:adal-python:ffcc806f-b17e-4943-9f62-507b8abb6eea - TokenRequest:Getting token from cache with refresh if necessary.\n"
     ]
    },
    {
     "name": "stdout",
     "output_type": "stream",
     "text": [
      "."
     ]
    },
    {
     "name": "stderr",
     "output_type": "stream",
     "text": [
      "INFO:adal-python:c300e707-36c1-49c4-af99-404e8735aa6e - TokenRequest:Getting token from cache with refresh if necessary.\n"
     ]
    },
    {
     "name": "stdout",
     "output_type": "stream",
     "text": [
      ".\n",
      "Succeeded"
     ]
    },
    {
     "name": "stderr",
     "output_type": "stream",
     "text": [
      "INFO:adal-python:71d11aa4-6ef3-43f7-b79d-3ccc96d46361 - TokenRequest:Getting token from cache with refresh if necessary.\n"
     ]
    },
    {
     "name": "stdout",
     "output_type": "stream",
     "text": [
      "ACI service creation operation finished, operation \"Succeeded\"\n",
      "Healthy\n"
     ]
    }
   ],
   "source": [
    "from azureml.core.webservice import AciWebservice, Webservice\n",
    "\n",
    "aciconfig = AciWebservice.deploy_configuration(cpu_cores = 1, \n",
    "                                               memory_gb = 1, \n",
    "                                               tags = {\"data\": \"mnist\", \"type\": \"classification\"}, \n",
    "                                               description = 'Handwriting recognition')\n",
    "\n",
    "service_name = 'keras-mnist-classification'\n",
    "service = Webservice.deploy_from_image(deployment_config = aciconfig,\n",
    "                                            image = image,\n",
    "                                            name = service_name,\n",
    "                                            workspace = ws)\n",
    "\n",
    "service.wait_for_deployment(show_output = True)\n",
    "print(service.state)"
   ]
  },
  {
   "cell_type": "code",
   "execution_count": 19,
   "metadata": {},
   "outputs": [
    {
     "name": "stdout",
     "output_type": "stream",
     "text": [
      "Scoring API served at: http://20.185.215.241:80/score\n"
     ]
    }
   ],
   "source": [
    "print(\"Scoring API served at: {}\".format(service.scoring_uri))"
   ]
  },
  {
   "cell_type": "code",
   "execution_count": 20,
   "metadata": {},
   "outputs": [
    {
     "data": {
      "image/png": "[encoded data removed]",
      "text/plain": [
       "<Figure size 1440x72 with 15 Axes>"
      ]
     },
     "metadata": {
      "needs_background": "light"
     },
     "output_type": "display_data"
    }
   ],
   "source": [
    "import json \n",
    "import numpy as np\n",
    "import matplotlib.pyplot as plt\n",
    "\n",
    "n = 15\n",
    "sample_indices = np.random.permutation(test_images.shape[0])[0:n]\n",
    "\n",
    "test_samples = json.dumps({\"data\": test_images[sample_indices].tolist()})\n",
    "test_samples = bytes(test_samples, encoding = 'utf8')\n",
    "\n",
    "# predict using the deployed model\n",
    "result = service.run(input_data=test_samples)['result']\n",
    "\n",
    "# compare actual value vs. the predicted values:\n",
    "plt.figure(figsize = (20, 1))\n",
    "\n",
    "for i, s in enumerate(sample_indices):\n",
    "    plt.subplot(1, n, i + 1)\n",
    "    plt.axhline('')\n",
    "    plt.axvline('')\n",
    "    \n",
    "    # model returns array of probabilities for each observation, need to select the highest probability class\n",
    "    predicted_value = result[i].index(max(result[i]))\n",
    "    actual_value = list(test_labels[s]).index(max(test_labels[s]))\n",
    "    # use different color for misclassified sample\n",
    "    font_color = 'red' if actual_value != predicted_value else 'black'\n",
    "    clr_map = plt.cm.gray if actual_value != predicted_value else plt.cm.Greys\n",
    "\n",
    "    plt.text(x=10, y =-10, s=predicted_value, fontsize=18, color=font_color)\n",
    "    plt.imshow(test_images[s].reshape(28, 28), cmap=clr_map)\n",
    "\n",
    "plt.show()"
   ]
  },
  {
   "cell_type": "code",
   "execution_count": 21,
   "metadata": {},
   "outputs": [
    {
     "name": "stdout",
     "output_type": "stream",
     "text": [
      "POST to url http://20.185.215.241:80/score\n",
      "0. Prediction = 5, Actual = 5\n",
      "1. Prediction = 1, Actual = 1\n",
      "2. Prediction = 5, Actual = 5\n",
      "3. Prediction = 2, Actual = 2\n",
      "4. Prediction = 8, Actual = 8\n",
      "5. Prediction = 9, Actual = 9\n",
      "6. Prediction = 9, Actual = 9\n",
      "7. Prediction = 6, Actual = 6\n",
      "8. Prediction = 6, Actual = 6\n",
      "9. Prediction = 7, Actual = 7\n",
      "10. Prediction = 5, Actual = 5\n",
      "11. Prediction = 1, Actual = 1\n",
      "12. Prediction = 3, Actual = 3\n",
      "13. Prediction = 7, Actual = 7\n",
      "14. Prediction = 3, Actual = 3\n"
     ]
    }
   ],
   "source": [
    "import requests\n",
    "\n",
    "input_data = json.dumps({\"data\": test_images[sample_indices].tolist()})\n",
    "\n",
    "headers = {'Content-Type':'application/json'}\n",
    "\n",
    "resp = requests.post(service.scoring_uri, input_data, headers=headers)\n",
    "\n",
    "print(\"POST to url\", service.scoring_uri)\n",
    "\n",
    "result = json.loads(resp.text)['result']\n",
    "\n",
    "for i, s in enumerate(sample_indices): \n",
    "    predicted_value = result[i].index(max(result[i]))\n",
    "    actual_value = list(test_labels[s]).index(max(test_labels[s]))\n",
    "    print(\"{}. Prediction = {}, Actual = {}\".format(i, predicted_value, actual_value))"
   ]
  },
  {
   "cell_type": "code",
   "execution_count": null,
   "metadata": {},
   "outputs": [],
   "source": []
  }
 ],
 "metadata": {
  "kernelspec": {
   "display_name": "Python 3",
   "language": "python",
   "name": "python3"
  },
  "language_info": {
   "codemirror_mode": {
    "name": "ipython",
    "version": 3
   },
   "file_extension": ".py",
   "mimetype": "text/x-python",
   "name": "python",
   "nbconvert_exporter": "python",
   "pygments_lexer": "ipython3",
   "version": "3.6.7"
  }
 },
 "nbformat": 4,
 "nbformat_minor": 2
}
