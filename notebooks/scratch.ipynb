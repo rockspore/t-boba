{
 "cells": [
  {
   "cell_type": "code",
   "execution_count": 8,
   "metadata": {},
   "outputs": [],
   "source": [
    "import requests\n",
    "import json"
   ]
  },
  {
   "cell_type": "code",
   "execution_count": 19,
   "metadata": {},
   "outputs": [],
   "source": [
    "subscription_key = 'dd09200b03b54ab58a6ea35fd000b56d'\n",
    "assert subscription_key\n",
    "\n",
    "face_api_url = 'https://eastus.api.cognitive.microsoft.com/face/v1.0/detect'\n",
    "\n",
    "image_url = 'https://upload.wikimedia.org/wikipedia/commons/3/37/Dagestani_man_and_woman.jpg'\n",
    "\n",
    "headers = { 'Ocp-Apim-Subscription-Key': subscription_key }\n",
    "    \n",
    "params = {\n",
    "    'returnFaceId': 'true',\n",
    "    'returnFaceLandmarks': 'false',\n",
    "    'returnFaceAttributes': 'age,gender,headPose,smile,facialHair,glasses,emotion,hair,makeup,occlusion,accessories,blur,exposure,noise',\n",
    "}"
   ]
  },
  {
   "cell_type": "code",
   "execution_count": 20,
   "metadata": {},
   "outputs": [
    {
     "name": "stdout",
     "output_type": "stream",
     "text": [
      "[{\"faceId\": \"8e1685df-5024-4cdf-ace3-839c0af8afc3\", \"faceRectangle\": {\"width\": 195, \"top\": 621, \"height\": 195, \"left\": 616}, \"faceAttributes\": {\"emotion\": {\"sadness\": 0.001, \"neutral\": 0.999, \"contempt\": 0.0, \"disgust\": 0.0, \"anger\": 0.0, \"surprise\": 0.0, \"fear\": 0.0, \"happiness\": 0.0}, \"noise\": {\"noiseLevel\": \"medium\", \"value\": 0.59}, \"gender\": \"male\", \"age\": 37.0, \"makeup\": {\"lipMakeup\": false, \"eyeMakeup\": true}, \"accessories\": [], \"facialHair\": {\"sideburns\": 0.1, \"moustache\": 0.4, \"beard\": 0.4}, \"hair\": {\"invisible\": false, \"hairColor\": [{\"color\": \"black\", \"confidence\": 0.98}, {\"color\": \"brown\", \"confidence\": 0.87}, {\"color\": \"gray\", \"confidence\": 0.85}, {\"color\": \"other\", \"confidence\": 0.25}, {\"color\": \"blond\", \"confidence\": 0.07}, {\"color\": \"red\", \"confidence\": 0.02}], \"bald\": 0.04}, \"headPose\": {\"yaw\": 3.7, \"roll\": 6.8, \"pitch\": 0.0}, \"blur\": {\"blurLevel\": \"high\", \"value\": 0.89}, \"smile\": 0.0, \"exposure\": {\"exposureLevel\": \"goodExposure\", \"value\": 0.51}, \"occlusion\": {\"mouthOccluded\": false, \"eyeOccluded\": false, \"foreheadOccluded\": false}, \"glasses\": \"NoGlasses\"}}, {\"faceId\": \"04d07e01-64d4-462a-b9cc-79cebbf37524\", \"faceRectangle\": {\"width\": 180, \"top\": 693, \"height\": 180, \"left\": 1503}, \"faceAttributes\": {\"emotion\": {\"sadness\": 0.011, \"neutral\": 0.984, \"contempt\": 0.001, \"disgust\": 0.0, \"anger\": 0.0, \"surprise\": 0.0, \"fear\": 0.0, \"happiness\": 0.003}, \"noise\": {\"noiseLevel\": \"high\", \"value\": 0.76}, \"gender\": \"female\", \"age\": 56.0, \"makeup\": {\"lipMakeup\": false, \"eyeMakeup\": false}, \"accessories\": [], \"facialHair\": {\"sideburns\": 0.0, \"moustache\": 0.0, \"beard\": 0.0}, \"hair\": {\"invisible\": false, \"hairColor\": [{\"color\": \"black\", \"confidence\": 0.99}, {\"color\": \"gray\", \"confidence\": 0.89}, {\"color\": \"other\", \"confidence\": 0.64}, {\"color\": \"brown\", \"confidence\": 0.34}, {\"color\": \"blond\", \"confidence\": 0.07}, {\"color\": \"red\", \"confidence\": 0.03}], \"bald\": 0.06}, \"headPose\": {\"yaw\": -2.2, \"roll\": 2.0, \"pitch\": 0.0}, \"blur\": {\"blurLevel\": \"high\", \"value\": 0.83}, \"smile\": 0.003, \"exposure\": {\"exposureLevel\": \"goodExposure\", \"value\": 0.41}, \"occlusion\": {\"mouthOccluded\": false, \"eyeOccluded\": false, \"foreheadOccluded\": false}, \"glasses\": \"NoGlasses\"}}]\n"
     ]
    }
   ],
   "source": [
    "response = requests.post(face_api_url, params=params, headers=headers, json={\"url\": image_url})\n",
    "print(json.dumps(response.json()))"
   ]
  },
  {
   "cell_type": "code",
   "execution_count": null,
   "metadata": {},
   "outputs": [],
   "source": []
  }
 ],
 "metadata": {
  "kernelspec": {
   "display_name": "Python 3",
   "language": "python",
   "name": "python3"
  },
  "language_info": {
   "codemirror_mode": {
    "name": "ipython",
    "version": 2
   },
   "file_extension": ".py",
   "mimetype": "text/x-python",
   "name": "python",
   "nbconvert_exporter": "python",
   "pygments_lexer": "ipython2",
   "version": "2.7.15rc1"
  }
 },
 "nbformat": 4,
 "nbformat_minor": 2
}
